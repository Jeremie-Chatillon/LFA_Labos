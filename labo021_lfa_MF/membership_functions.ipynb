{
 "cells": [
  {
   "cell_type": "markdown",
   "metadata": {},
   "source": [
    "# Membership functions\n",
    "\n",
    "Author: Gary Marigliano, based on the work of Hector Satizabal\n",
    "\n",
    "- Professor: Carlos Peña (<a href=\"mailto:carlos.pena@heig-vd.ch\">carlos.pena@heig-vd.ch</a>)\n",
    "- Assistant 2018: Gary Marigliano (<a href=\"mailto:gary.marigliano@heig-vd.ch\">gary.marigliano@heig-vd.ch</a>)\n",
    "- Assistant 2019: Diogo Leite (<a href=\"mailto:diogo.leite@heig-vd.ch\">diogo.leite@heig-vd.ch</a>)\n",
    "\n",
    "Date: Winter 2019"
   ]
  },
  {
   "cell_type": "markdown",
   "metadata": {},
   "source": [
    "## Instructions:\n",
    "\n",
    "* Read this notebook\n",
    "* Do/Answer where **TODO student** is specified\n",
    "* The folder structure is like this:\n",
    "\n",
    "```\n",
    "fuzzy_systems\n",
    "├── core\n",
    "└── view\n",
    "```\n",
    "\n",
    "* `core` contains core classes like membership_functions, fuzzy_rules,...\n",
    "* `view` contains classes used to display what the core classes do.\n",
    "* when you will do the exercises, please follow the same convention.\n",
    "\n",
    "\n",
    "**TODO student** Read and explore the code provided both in this folder."
   ]
  },
  {
   "cell_type": "code",
   "execution_count": 1,
   "metadata": {},
   "outputs": [],
   "source": [
    "import numpy as np\n",
    "import matplotlib.pyplot as plt\n",
    "\n",
    "%matplotlib inline"
   ]
  },
  {
   "cell_type": "markdown",
   "metadata": {},
   "source": [
    "With Jupyter it is possible to execute command line programs by using prefixing the cell with a \"!\". Here we show/\"cat\" the content of a file. /!\\ Pygmentize should be installed with your virtualenv."
   ]
  },
  {
   "cell_type": "code",
   "execution_count": 2,
   "metadata": {},
   "outputs": [
    {
     "name": "stdout",
     "output_type": "stream",
     "text": [
      "import numpy as np\n",
      "\n",
      "\n",
      "class FreeShapeMF:\n",
      "    def __init__(self, in_values, mf_values):\n",
      "        \"\"\"\n",
      "        Build a membership function by defining input values (x axis, in_values)\n",
      "        and corresponding output values (y axis, mf_values)\n",
      "\n",
      "        This class is the most basic way available to create membership\n",
      "        functions.\n",
      "\n",
      "        :param in_values:\n",
      "        :param mf_values:\n",
      "        \"\"\"\n",
      "        assert len(in_values) == len(\n",
      "            mf_values), \"Input and MF values are not the same length\"\n",
      "\n",
      "        self._in_values = np.array(in_values)\n",
      "        self._mf_values = np.array(mf_values)\n",
      "\n",
      "    def fuzzify(self, in_value):\n",
      "        # return the nearest mf value for a given in_value using interpolation\n",
      "        return np.interp(in_value, self._in_values, self._mf_values)\n",
      "\n",
      "    @property\n",
      "    def in_values(self):\n",
      "        return self._in_values\n",
      "\n",
      "    @property\n",
      "    def mf_values(self):\n",
      "        return self._mf_values\n"
     ]
    }
   ],
   "source": [
    "!pygmentize fuzzy_systems/core/membership_functions/free_shape_mf.py"
   ]
  },
  {
   "cell_type": "markdown",
   "metadata": {},
   "source": [
    "## Some examples of membership functions"
   ]
  },
  {
   "cell_type": "markdown",
   "metadata": {},
   "source": [
    "- Common membership functions are \"crisp\" (or Boolean), \"Triangular\", and \"Trapezoidal\"."
   ]
  },
  {
   "cell_type": "code",
   "execution_count": 3,
   "metadata": {},
   "outputs": [
    {
     "name": "stdout",
     "output_type": "stream",
     "text": [
      "[N/A] value 3.2 has been fuzzified to 1.0\n"
     ]
    },
    {
     "data": {
      "image/png": "[encoded data removed]",
      "text/plain": [
       "<matplotlib.figure.Figure at 0xec55170>"
      ]
     },
     "metadata": {},
     "output_type": "display_data"
    }
   ],
   "source": [
    "# import core classes\n",
    "from fuzzy_systems.core.membership_functions.free_shape_mf import FreeShapeMF\n",
    "\n",
    "# import view classes\n",
    "from fuzzy_systems.view.mf_viewer import MembershipFunctionViewer\n",
    "\n",
    "fig, ax = plt.subplots()\n",
    "ax.set_title(\"A crisp membership function\")\n",
    "\n",
    "in_values = [4,4]\n",
    "mf_values = [1,0]\n",
    "\n",
    "mf = FreeShapeMF(in_values, mf_values)\n",
    "mfv = MembershipFunctionViewer(mf, ax=ax, label=\"N/A\")\n",
    "mfv.fuzzify(3.2)\n",
    "plt.legend()\n",
    "plt.show()\n"
   ]
  },
  {
   "cell_type": "markdown",
   "metadata": {},
   "source": [
    "### Triangular MF\n",
    "\n",
    "In the following example we will show an other popular membership function, the triangular membership function.\n",
    "\n",
    "But creating membership functions by hand is painful. Let's create a class that will help us.\n",
    "\n",
    "* Reminder: **you should NOT create a class directly in the notebook**. You must create it in the right folder, here in core/membership_functions."
   ]
  },
  {
   "cell_type": "code",
   "execution_count": 4,
   "metadata": {},
   "outputs": [],
   "source": [
    "class BasicTriangularMF(FreeShapeMF):\n",
    "    def __init__(self, p_min, p_mid, p_max):\n",
    "        in_values = [p_min, p_mid, p_max]\n",
    "        mf_values = [0, 1, 0]\n",
    "        super().__init__(in_values, mf_values)\n"
   ]
  },
  {
   "cell_type": "code",
   "execution_count": 5,
   "metadata": {},
   "outputs": [
    {
     "name": "stdout",
     "output_type": "stream",
     "text": [
      "[N/A] value 14 has been fuzzified to 0.64\n"
     ]
    },
    {
     "data": {
      "image/png": "[encoded data removed]",
      "text/plain": [
       "<matplotlib.figure.Figure at 0xec67930>"
      ]
     },
     "metadata": {},
     "output_type": "display_data"
    }
   ],
   "source": [
    "tri_mf = BasicTriangularMF(p_min=1, p_mid=5, p_max=30)\n",
    "fig, ax = plt.subplots()\n",
    "ax.set_title(\"A triangular membership function\")\n",
    "mfv = MembershipFunctionViewer(tri_mf, ax=ax, label=\"N/A\")\n",
    "mfv.fuzzify(14)\n",
    "plt.legend()\n",
    "plt.show()"
   ]
  },
  {
   "cell_type": "markdown",
   "metadata": {},
   "source": [
    "## Linear piecewise MF\n",
    "\n",
    "A linear piecewise membership function (LinPWMF) is a membership that is defined by linear parts (i.e. \"a list of lines\"). It is not common to use LinPWMFs as is but it is very convienient to subclass it to create other common MF such as TrapezoidalMF or TriangularMF.\n",
    "\n",
    "Here is an example of the provided LinPWMF"
   ]
  },
  {
   "cell_type": "code",
   "execution_count": 6,
   "metadata": {},
   "outputs": [
    {
     "name": "stdout",
     "output_type": "stream",
     "text": [
      "import numpy as np\n",
      "\n",
      "from fuzzy_systems.core.membership_functions.free_shape_mf import FreeShapeMF\n",
      "\n",
      "\n",
      "def gen_line(p0, p1, n_points):\n",
      "    \"\"\"\n",
      "    Generate a line (list of xs and ys) given two points p0 and p1.\n",
      "    This function handles vertical and horizontal lines\n",
      "    :param p0: a point as x0 and y0\n",
      "    :param p1: a point as x1 and y1\n",
      "    :param n_points: number of points to generate\n",
      "    :return: xs, ys as list of x and list of y of the generated line\n",
      "    \"\"\"\n",
      "    points_same_x = abs(p1[0] - p0[0]) < 1e-6\n",
      "    points_same_y = abs(p1[1] - p0[1]) < 1e-6\n",
      "    if points_same_y and points_same_x:\n",
      "        return [p0[0]], [p0[1]]\n",
      "\n",
      "    if points_same_x:\n",
      "        return [p0[0], p1[0]], [p0[1], p1[1]]\n",
      "\n",
      "    xs = np.linspace(p0[0], p1[0], n_points)\n",
      "    slope = (p1[1] - p0[1]) / (p1[0] - p0[0])\n",
      "    ys = [slope * (x - p0[0]) + p0[1] for x in xs]\n",
      "\n",
      "    return xs, ys\n",
      "\n",
      "\n",
      "class LinPWMF(FreeShapeMF):\n",
      "    \"\"\"\n",
      "    This class produce a \"linear piece-wise function\"-like membership function\n",
      "    This is a more \"generic\" class to produce linear, triangular and\n",
      "    trapezoidal MF.\n",
      "\n",
      "    Feel free to derive this class to create a TriangularMF, LinearMF,...\n",
      "    \"\"\"\n",
      "\n",
      "    def __init__(self, *p_args, n_points=50):\n",
      "        \"\"\"\n",
      "        Create a \"linear piece-wise function\"-like membership function\n",
      "        :param p_args: this should at least contain 2 items. Each item is\n",
      "        a point represented as an array [x, y] i.e. a point of the desired mf\n",
      "        f(x) = y where x is a crisp value and y the assign mf value which is\n",
      "        bound to [0,1]\n",
      "        :param n_points: as only two points are needed to draw a line, this\n",
      "        parameter let you choose the granularity (i.e. the number of points)\n",
      "        to compute between all the piece-wise elements of the function.\n",
      "        \"\"\"\n",
      "        assert len(p_args) >= 2, \"Cannot produce MF with less than 2 points\"\n",
      "        n_pts = n_points\n",
      "        n_pts_part = int(1 / len(p_args) * n_pts)\n",
      "\n",
      "        in_values = []\n",
      "        mf_values = []\n",
      "\n",
      "        for i in range(1, len(p_args)):\n",
      "            xs, ys = gen_line(p_args[i - 1], p_args[i], n_points=n_pts_part)\n",
      "            in_values.extend(xs)\n",
      "            mf_values.extend(ys)\n",
      "\n",
      "        super(LinPWMF, self).__init__(in_values, mf_values)\n"
     ]
    }
   ],
   "source": [
    "!pygmentize fuzzy_systems/core/membership_functions/lin_piece_wise_mf.py"
   ]
  },
  {
   "cell_type": "code",
   "execution_count": 7,
   "metadata": {},
   "outputs": [
    {
     "name": "stdout",
     "output_type": "stream",
     "text": [
      "[N/A] value 100 has been fuzzified to 0.0\n"
     ]
    },
    {
     "data": {
      "image/png": "[encoded data removed]",
      "text/plain": [
       "<matplotlib.figure.Figure at 0xeceeef0>"
      ]
     },
     "metadata": {},
     "output_type": "display_data"
    }
   ],
   "source": [
    "from fuzzy_systems.core.membership_functions.lin_piece_wise_mf import LinPWMF\n",
    "\n",
    "lin_mf = LinPWMF([0, 0.1], [0, 1.0], [12, 0.2], [17, 0.0])\n",
    "\n",
    "fig, ax = plt.subplots()\n",
    "ax.set_title(\"A linear piece-wise membership function\")\n",
    "mfv = MembershipFunctionViewer(lin_mf, ax=ax, label=\"N/A\")\n",
    "mfv.fuzzify(100)\n",
    "plt.legend()\n",
    "plt.show()\n"
   ]
  },
  {
   "cell_type": "markdown",
   "metadata": {},
   "source": [
    "## Exercise"
   ]
  },
  {
   "cell_type": "markdown",
   "metadata": {},
   "source": [
    "**TODO student**\n",
    "\n",
    "- Test the functions above. Play with the parameters of each membership functions and observe the results.\n",
    "\n",
    "- Using the provided functions as starting point, implement a new trapezoidal membership class (**in core/membership_functions/trap_mf.py**) without the constraint of being isosceles. \n",
    "\n",
    "- To implement it, you will need to extends/inherit from LinPWMF. You can use this snippet for example:\n",
    "\n",
    "```python \n",
    "class TrapMF(LinPWMF):\n",
    "    def __init__(self, p0, p1, p2, p3):\n",
    "        #TODO student\n",
    "```\n",
    "\n",
    "- Use `MembershipFunctionViewer` to demonstrate how well your implementation works with some relevant test cases/examples.\n",
    "\n",
    "```\n",
    "                         p1           p2\n",
    "                         x____________x\n",
    "                        /             |\n",
    "                       /              |\n",
    "                      /               |\n",
    "               ______x                x_______\n",
    "                    p0                p3\n",
    "```                                       "
   ]
  },
  {
   "cell_type": "code",
   "execution_count": 8,
   "metadata": {},
   "outputs": [
    {
     "name": "stdout",
     "output_type": "stream",
     "text": [
      "[N/A] value 8 has been fuzzified to 0.0\n"
     ]
    },
    {
     "data": {
      "image/png": "[encoded data removed]",
      "text/plain": [
       "<matplotlib.figure.Figure at 0xed860f0>"
      ]
     },
     "metadata": {},
     "output_type": "display_data"
    }
   ],
   "source": [
    "from fuzzy_systems.core.membership_functions.trap_mf import TrapMF\n",
    "\n",
    "trap_mf = TrapMF(0, 2, 6, 6)\n",
    "\n",
    "fig, ax = plt.subplots()\n",
    "ax.set_title(\"A linear piece-wise membership function\")\n",
    "mfv = MembershipFunctionViewer(trap_mf, ax=ax, label=\"N/A\")\n",
    "mfv.fuzzify(8)\n",
    "plt.legend()\n",
    "plt.show()"
   ]
  },
  {
   "cell_type": "markdown",
   "metadata": {},
   "source": [
    "## To further explore about membership functions... "
   ]
  },
  {
   "cell_type": "markdown",
   "metadata": {},
   "source": [
    "### Singleton MFs\n",
    "\n",
    "**TODO student**\n",
    "\n",
    "\n",
    "                                                 |\n",
    "                                                 |\n",
    "                                                 |\n",
    "                                  _______________|_______________\n",
    "                                  \n",
    "- A special membership function is the so-called \"singleton\", in which all the membership is \"concentrated\" in a single point.\n",
    "    - In your opinion, what is the meaning of such a function?\n",
    "    - Do you see an utility for the use of singleton membership functions?\n",
    "    - Implement a SingletonMF (**in core/membership_functions/singleton_mf.py**). Requirement 1: the constructor is `mf = SingletonMF(x)` where `x` is the input value where `y = 1`. Requirement 2: You must inherit from FreeShapeMF. Tip: you might need to override `fuzzify()` to make it work.\n",
    "    -  Use `MembershipFunctionViewer` to demonstrate how well your implementation works with some relevant test cases/examples.\n",
    "    \n",
    "### Smooth MFs\n",
    "- Smoother membership functions (e.g., Gaussian, exponential, or sigmoid) are also very common in fuzzy logic.\n",
    "    - In your opinion what could be the pros and cons of these smooth functions as compared to their edgier counterparts?\n",
    "\n",
    "### Arbitrary MFs\n",
    "- There is no formal need for a membership function to have a convex, coherent shape (as those explored until now). So, they could be as arbitrary as you want or need.\n",
    "    - In your opinion what could be the pros and cons of using arbitrary membership functions as compared to their well-behaved counterparts?\n"
   ]
  },
  {
   "cell_type": "markdown",
   "metadata": {},
   "source": [
    "### In your opinion, what is the meaning of such a function?\n",
    "Have only one value correct\n",
    "### Do you see an utility for the use of singleton membership functions?\n",
    "Yes, to find if there is a value fellowing on a specific point. However, it's very limiting. We can only explane a true false state. In this order, it's the limite of the fuzzy logic."
   ]
  },
  {
   "cell_type": "code",
   "execution_count": 9,
   "metadata": {},
   "outputs": [
    {
     "name": "stdout",
     "output_type": "stream",
     "text": [
      "[N/A] value 2 has been fuzzified to 0\n"
     ]
    },
    {
     "data": {
      "image/png": "[encoded data removed]",
      "text/plain": [
       "<matplotlib.figure.Figure at 0xed8f6f0>"
      ]
     },
     "metadata": {},
     "output_type": "display_data"
    }
   ],
   "source": [
    "from fuzzy_systems.core.membership_functions.singleton_mf import SingletonMF\n",
    "\n",
    "    \n",
    "singleton_mf = SingletonMF(1)\n",
    "\n",
    "fig, ax = plt.subplots()\n",
    "ax.set_title(\"Singleton membership function\")\n",
    "mfv = MembershipFunctionViewer(singleton_mf, ax=ax, label=\"N/A\")\n",
    "mfv.fuzzify(2)\n",
    "plt.legend()\n",
    "plt.show()"
   ]
  },
  {
   "cell_type": "markdown",
   "metadata": {},
   "source": [
    "#### "
   ]
  },
  {
   "cell_type": "markdown",
   "metadata": {},
   "source": [
    "-----------------\n",
    "\n",
    "# Please answer below this"
   ]
  },
  {
   "cell_type": "markdown",
   "metadata": {},
   "source": [
    "**TODO student**: \n",
    "\n",
    "- Implement what is asked in the right folders\n",
    "- Write the answer to the questions asked just below.\n",
    "\n",
    "We have played with the function in the exemple. We had modify the values of parameters to test them.\n",
    "\n",
    "### Singleton MFs\n",
    ">In your opinion, what is the meaning of such a function?\n",
    "Have only one value correct\n",
    ">Do you see an utility for the use of singleton membership functions?\n",
    "Yes, to find if there is a value fellowing on a specific point. However, it's very limiting. We can only explane a true false state. In this order, it's the limite of the fuzzy logic.\n",
    "\n",
    "### Smooth MFs\n",
    ">In your opinion what could be the pros and cons of these smooth functions as compared to their edgier counterparts?\n",
    "I think it's useful for show a non-linear function. Like the acceleration or the deceleration for exemple. Hoever, with thoes functions, it's very hard to reach the limits. Only a few of values are at the max and the min. It's harder to explane arbitrary decisions.\n",
    "### Arbitrary MFs\n",
    ">In your opinion what could be the pros and cons of using arbitrary membership functions as compared to their well-behaved counterparts?\n",
    "Compared to Smoth MFs, these functions are more suited to meet arbitrary criteria. However, they do not respond to physical or scientific phenomena. One must also be careful not to express anything, because they accept any values.\n",
    "\n",
    "\n",
    ">Use `MembershipFunctionViewer` to demonstrate how well your implementation works with some relevant test cases/examples.\n",
    "\n",
    "## trapezoidal membership MFs"
   ]
  },
  {
   "cell_type": "code",
   "execution_count": 10,
   "metadata": {},
   "outputs": [
    {
     "name": "stdout",
     "output_type": "stream",
     "text": [
      "[N/A] value 3 has been fuzzified to 1.0\n"
     ]
    },
    {
     "data": {
      "image/png": "[encoded data removed]",
      "text/plain": [
       "<matplotlib.figure.Figure at 0xee052f0>"
      ]
     },
     "metadata": {},
     "output_type": "display_data"
    }
   ],
   "source": [
    "## like the exemple\n",
    "from fuzzy_systems.core.membership_functions.trap_mf import TrapMF\n",
    "trap_mf = TrapMF(0, 2, 6, 6)\n",
    "fig, ax = plt.subplots()\n",
    "ax.set_title(\"like the exemple\")\n",
    "mfv = MembershipFunctionViewer(trap_mf, ax=ax, label=\"N/A\")\n",
    "mfv.fuzzify(3)\n",
    "plt.legend()\n",
    "plt.show()"
   ]
  },
  {
   "cell_type": "code",
   "execution_count": 11,
   "metadata": {},
   "outputs": [
    {
     "name": "stdout",
     "output_type": "stream",
     "text": [
      "[N/A] value 8 has been fuzzified to 0.0\n"
     ]
    },
    {
     "data": {
      "image/png": "[encoded data removed]",
      "text/plain": [
       "<matplotlib.figure.Figure at 0xee187f0>"
      ]
     },
     "metadata": {},
     "output_type": "display_data"
    }
   ],
   "source": [
    "## like the exemple with fuzzify out of the function\n",
    "from fuzzy_systems.core.membership_functions.trap_mf import TrapMF\n",
    "trap_mf = TrapMF(0, 2, 6, 6)\n",
    "fig, ax = plt.subplots()\n",
    "ax.set_title(\"like the exemple with fuzzify out of the function\")\n",
    "mfv = MembershipFunctionViewer(trap_mf, ax=ax, label=\"N/A\")\n",
    "mfv.fuzzify(8)\n",
    "plt.legend()\n",
    "plt.show()"
   ]
  },
  {
   "cell_type": "code",
   "execution_count": 12,
   "metadata": {},
   "outputs": [
    {
     "name": "stdout",
     "output_type": "stream",
     "text": [
      "[N/A] value 2 has been fuzzified to 1.0\n"
     ]
    },
    {
     "data": {
      "image/png": "[encoded data removed]",
      "text/plain": [
       "<matplotlib.figure.Figure at 0xee507f0>"
      ]
     },
     "metadata": {},
     "output_type": "display_data"
    }
   ],
   "source": [
    "## other Exemple\n",
    "from fuzzy_systems.core.membership_functions.trap_mf import TrapMF\n",
    "trap_mf = TrapMF(1, 2, 4, 6)\n",
    "fig, ax = plt.subplots()\n",
    "ax.set_title(\"other Exemple\")\n",
    "mfv = MembershipFunctionViewer(trap_mf, ax=ax, label=\"N/A\")\n",
    "mfv.fuzzify(2)\n",
    "plt.legend()\n",
    "plt.show()"
   ]
  },
  {
   "cell_type": "code",
   "execution_count": 13,
   "metadata": {},
   "outputs": [
    {
     "ename": "AssertionError",
     "evalue": "",
     "output_type": "error",
     "traceback": [
      "\u001b[1;31m---------------------------------------------------------------------------\u001b[0m",
      "\u001b[1;31mAssertionError\u001b[0m                            Traceback (most recent call last)",
      "\u001b[1;32m<ipython-input-13-da5cd91595d4>\u001b[0m in \u001b[0;36m<module>\u001b[1;34m()\u001b[0m\n\u001b[0;32m      1\u001b[0m \u001b[1;31m## Test with false value => asser error\u001b[0m\u001b[1;33m\u001b[0m\u001b[1;33m\u001b[0m\u001b[1;33m\u001b[0m\u001b[0m\n\u001b[0;32m      2\u001b[0m \u001b[1;32mfrom\u001b[0m \u001b[0mfuzzy_systems\u001b[0m\u001b[1;33m.\u001b[0m\u001b[0mcore\u001b[0m\u001b[1;33m.\u001b[0m\u001b[0mmembership_functions\u001b[0m\u001b[1;33m.\u001b[0m\u001b[0mtrap_mf\u001b[0m \u001b[1;32mimport\u001b[0m \u001b[0mTrapMF\u001b[0m\u001b[1;33m\u001b[0m\u001b[1;33m\u001b[0m\u001b[0m\n\u001b[1;32m----> 3\u001b[1;33m \u001b[0mtrap_mf\u001b[0m \u001b[1;33m=\u001b[0m \u001b[0mTrapMF\u001b[0m\u001b[1;33m(\u001b[0m\u001b[1;36m1\u001b[0m\u001b[1;33m,\u001b[0m \u001b[1;36m2\u001b[0m\u001b[1;33m,\u001b[0m \u001b[1;36m1\u001b[0m\u001b[1;33m,\u001b[0m \u001b[1;36m6\u001b[0m\u001b[1;33m)\u001b[0m\u001b[1;33m\u001b[0m\u001b[1;33m\u001b[0m\u001b[0m\n\u001b[0m\u001b[0;32m      4\u001b[0m \u001b[0mfig\u001b[0m\u001b[1;33m,\u001b[0m \u001b[0max\u001b[0m \u001b[1;33m=\u001b[0m \u001b[0mplt\u001b[0m\u001b[1;33m.\u001b[0m\u001b[0msubplots\u001b[0m\u001b[1;33m(\u001b[0m\u001b[1;33m)\u001b[0m\u001b[1;33m\u001b[0m\u001b[1;33m\u001b[0m\u001b[0m\n\u001b[0;32m      5\u001b[0m \u001b[0max\u001b[0m\u001b[1;33m.\u001b[0m\u001b[0mset_title\u001b[0m\u001b[1;33m(\u001b[0m\u001b[1;34m\"other Exemple\"\u001b[0m\u001b[1;33m)\u001b[0m\u001b[1;33m\u001b[0m\u001b[1;33m\u001b[0m\u001b[0m\n",
      "\u001b[1;32m~\\Documents\\HEIG\\BA-06\\LFA\\Labos\\labo021_lfa_MF\\fuzzy_systems\\core\\membership_functions\\trap_mf.py\u001b[0m in \u001b[0;36m__init__\u001b[1;34m(self, p0, p1, p2, p3)\u001b[0m\n\u001b[0;32m      2\u001b[0m \u001b[1;32mclass\u001b[0m \u001b[0mTrapMF\u001b[0m\u001b[1;33m(\u001b[0m\u001b[0mLinPWMF\u001b[0m\u001b[1;33m)\u001b[0m\u001b[1;33m:\u001b[0m\u001b[1;33m\u001b[0m\u001b[1;33m\u001b[0m\u001b[0m\n\u001b[0;32m      3\u001b[0m   \u001b[1;32mdef\u001b[0m \u001b[0m__init__\u001b[0m\u001b[1;33m(\u001b[0m\u001b[0mself\u001b[0m\u001b[1;33m,\u001b[0m \u001b[0mp0\u001b[0m\u001b[1;33m,\u001b[0m \u001b[0mp1\u001b[0m\u001b[1;33m,\u001b[0m \u001b[0mp2\u001b[0m\u001b[1;33m,\u001b[0m \u001b[0mp3\u001b[0m\u001b[1;33m)\u001b[0m\u001b[1;33m:\u001b[0m\u001b[1;33m\u001b[0m\u001b[1;33m\u001b[0m\u001b[0m\n\u001b[1;32m----> 4\u001b[1;33m     \u001b[1;32massert\u001b[0m \u001b[1;33m(\u001b[0m\u001b[0mp0\u001b[0m \u001b[1;33m<=\u001b[0m \u001b[0mp1\u001b[0m \u001b[1;33m&\u001b[0m \u001b[0mp1\u001b[0m \u001b[1;33m<=\u001b[0m \u001b[0mp2\u001b[0m \u001b[1;33m&\u001b[0m \u001b[0mp2\u001b[0m \u001b[1;33m<=\u001b[0m \u001b[0mp3\u001b[0m\u001b[1;33m)\u001b[0m\u001b[1;33m\u001b[0m\u001b[1;33m\u001b[0m\u001b[0m\n\u001b[0m\u001b[0;32m      5\u001b[0m     \u001b[0msuper\u001b[0m\u001b[1;33m(\u001b[0m\u001b[0mTrapMF\u001b[0m\u001b[1;33m,\u001b[0m \u001b[0mself\u001b[0m\u001b[1;33m)\u001b[0m\u001b[1;33m.\u001b[0m\u001b[0m__init__\u001b[0m\u001b[1;33m(\u001b[0m\u001b[1;33m[\u001b[0m\u001b[0mp0\u001b[0m\u001b[1;33m,\u001b[0m\u001b[1;36m0.0\u001b[0m\u001b[1;33m]\u001b[0m\u001b[1;33m,\u001b[0m\u001b[1;33m[\u001b[0m\u001b[0mp1\u001b[0m\u001b[1;33m,\u001b[0m\u001b[1;36m1.0\u001b[0m\u001b[1;33m]\u001b[0m\u001b[1;33m,\u001b[0m\u001b[1;33m[\u001b[0m\u001b[0mp2\u001b[0m\u001b[1;33m,\u001b[0m\u001b[1;36m1.0\u001b[0m\u001b[1;33m]\u001b[0m\u001b[1;33m,\u001b[0m\u001b[1;33m[\u001b[0m\u001b[0mp3\u001b[0m\u001b[1;33m,\u001b[0m\u001b[1;36m0.0\u001b[0m\u001b[1;33m]\u001b[0m\u001b[1;33m)\u001b[0m\u001b[1;33m\u001b[0m\u001b[1;33m\u001b[0m\u001b[0m\n",
      "\u001b[1;31mAssertionError\u001b[0m: "
     ]
    }
   ],
   "source": [
    "## Test with false value => asser error\n",
    "from fuzzy_systems.core.membership_functions.trap_mf import TrapMF\n",
    "trap_mf = TrapMF(1, 2, 1, 6)\n",
    "fig, ax = plt.subplots()\n",
    "ax.set_title(\"other Exemple\")\n",
    "mfv = MembershipFunctionViewer(trap_mf, ax=ax, label=\"N/A\")\n",
    "mfv.fuzzify(2)\n",
    "plt.legend()\n",
    "plt.show()"
   ]
  },
  {
   "cell_type": "markdown",
   "metadata": {},
   "source": [
    "## Singleton MFs"
   ]
  },
  {
   "cell_type": "code",
   "execution_count": 14,
   "metadata": {},
   "outputs": [
    {
     "data": {
      "image/png": "[encoded data removed]",
      "text/plain": [
       "<matplotlib.figure.Figure at 0xeec77f0>"
      ]
     },
     "metadata": {},
     "output_type": "display_data"
    }
   ],
   "source": [
    "# Singleton mf with no fuzzify\n",
    "from fuzzy_systems.core.membership_functions.singleton_mf import SingletonMF\n",
    "\n",
    "singleton_mf = SingletonMF(1)\n",
    "fig, ax = plt.subplots()\n",
    "ax.set_title(\"Singleton mf with no fuzz\")\n",
    "mfv = MembershipFunctionViewer(singleton_mf, ax=ax, label=\"N/A\")\n",
    "plt.legend()\n",
    "plt.show()"
   ]
  },
  {
   "cell_type": "code",
   "execution_count": 15,
   "metadata": {},
   "outputs": [
    {
     "data": {
      "image/png": "[encoded data removed]",
      "text/plain": [
       "<matplotlib.figure.Figure at 0xeed19b0>"
      ]
     },
     "metadata": {},
     "output_type": "display_data"
    }
   ],
   "source": [
    "# Other singleton mf with no fuzzify\n",
    "from fuzzy_systems.core.membership_functions.singleton_mf import SingletonMF\n",
    "\n",
    "singleton_mf = SingletonMF(5)\n",
    "fig, ax = plt.subplots()\n",
    "ax.set_title(\"Other singleton mf with no fuzzify\")\n",
    "mfv = MembershipFunctionViewer(singleton_mf, ax=ax, label=\"N/A\")\n",
    "plt.legend()\n",
    "plt.show()"
   ]
  },
  {
   "cell_type": "code",
   "execution_count": 16,
   "metadata": {},
   "outputs": [
    {
     "name": "stdout",
     "output_type": "stream",
     "text": [
      "[N/A] value 5 has been fuzzified to 1.0\n"
     ]
    },
    {
     "data": {
      "image/png": "[encoded data removed]",
      "text/plain": [
       "<matplotlib.figure.Figure at 0xef78a90>"
      ]
     },
     "metadata": {},
     "output_type": "display_data"
    }
   ],
   "source": [
    "# Other singleton mf with same value for fuzzify\n",
    "from fuzzy_systems.core.membership_functions.singleton_mf import SingletonMF\n",
    "\n",
    "singleton_mf = SingletonMF(5)\n",
    "fig, ax = plt.subplots()\n",
    "ax.set_title(\"Other singleton mf with same value for fuzzify\")\n",
    "mfv = MembershipFunctionViewer(singleton_mf, ax=ax, label=\"N/A\")\n",
    "mfv.fuzzify(5)\n",
    "plt.legend()\n",
    "plt.show()"
   ]
  },
  {
   "cell_type": "code",
   "execution_count": 17,
   "metadata": {},
   "outputs": [
    {
     "name": "stdout",
     "output_type": "stream",
     "text": [
      "[N/A] value 4 has been fuzzified to 0\n"
     ]
    },
    {
     "data": {
      "image/png": "[encoded data removed]",
      "text/plain": [
       "<matplotlib.figure.Figure at 0xefb9650>"
      ]
     },
     "metadata": {},
     "output_type": "display_data"
    }
   ],
   "source": [
    "# Other singleton mf with other value for fuzzify\n",
    "from fuzzy_systems.core.membership_functions.singleton_mf import SingletonMF\n",
    "\n",
    "singleton_mf = SingletonMF(5)\n",
    "fig, ax = plt.subplots()\n",
    "ax.set_title(\"Other singleton mf with same value for fuzzify\")\n",
    "mfv = MembershipFunctionViewer(singleton_mf, ax=ax, label=\"N/A\")\n",
    "mfv.fuzzify(4)\n",
    "plt.legend()\n",
    "plt.show()"
   ]
  },
  {
   "cell_type": "markdown",
   "metadata": {},
   "source": [
    "### To submit\n",
    "\n",
    "Please make a zip called `lfa_labXX_YY.zip` where `XX` is the lab number and `YY` is your familly name. For example: `lfa_lab02_smith.zip`. \n",
    "\n",
    "The zip must contain all _needed_ the files to run this notebook. That is, don't send your virtualenv (only the requirements.txt). **If any additional steps are required to run your notebook(s)/code, please add a README.md where you indicate all the needed steps to reproduce your work.**"
   ]
  },
  {
   "cell_type": "code",
   "execution_count": null,
   "metadata": {},
   "outputs": [],
   "source": []
  }
 ],
 "metadata": {
  "kernelspec": {
   "display_name": "Python 3",
   "language": "python",
   "name": "python3"
  },
  "language_info": {
   "codemirror_mode": {
    "name": "ipython",
    "version": 3
   },
   "file_extension": ".py",
   "mimetype": "text/x-python",
   "name": "python",
   "nbconvert_exporter": "python",
   "pygments_lexer": "ipython3",
   "version": "3.6.8"
  }
 },
 "nbformat": 4,
 "nbformat_minor": 1
}
