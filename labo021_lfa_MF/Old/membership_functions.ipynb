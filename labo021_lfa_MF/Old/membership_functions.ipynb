{
 "cells": [
  {
   "cell_type": "markdown",
   "metadata": {},
   "source": [
    "# Membership functions\n",
    "\n",
    "Author: Gary Marigliano, based on the work of Hector Satizabal\n",
    "\n",
    "- Professor: Carlos Peña (<a href=\"mailto:carlos.pena@heig-vd.ch\">carlos.pena@heig-vd.ch</a>)\n",
    "- Assistant 2018: Gary Marigliano (<a href=\"mailto:gary.marigliano@heig-vd.ch\">gary.marigliano@heig-vd.ch</a>)\n",
    "- Assistant 2019: Diogo Leite (<a href=\"mailto:diogo.leite@heig-vd.ch\">diogo.leite@heig-vd.ch</a>)\n",
    "\n",
    "Date: Winter 2019"
   ]
  },
  {
   "cell_type": "markdown",
   "metadata": {},
   "source": [
    "## Instructions:\n",
    "\n",
    "* Read this notebook\n",
    "* Do/Answer where **TODO student** is specified\n",
    "* The folder structure is like this:\n",
    "\n",
    "```\n",
    "fuzzy_systems\n",
    "├── core\n",
    "└── view\n",
    "```\n",
    "\n",
    "* `core` contains core classes like membership_functions, fuzzy_rules,...\n",
    "* `view` contains classes used to display what the core classes do.\n",
    "* when you will do the exercises, please follow the same convention.\n",
    "\n",
    "\n",
    "**TODO student** Read and explore the code provided both in this folder."
   ]
  },
  {
   "cell_type": "code",
   "execution_count": 1,
   "metadata": {},
   "outputs": [],
   "source": [
    "import numpy as np\n",
    "import matplotlib.pyplot as plt\n",
    "\n",
    "%matplotlib inline"
   ]
  },
  {
   "cell_type": "markdown",
   "metadata": {},
   "source": [
    "With Jupyter it is possible to execute command line programs by using prefixing the cell with a \"!\". Here we show/\"cat\" the content of a file. /!\\ Pygmentize should be installed with your virtualenv."
   ]
  },
  {
   "cell_type": "code",
   "execution_count": 2,
   "metadata": {},
   "outputs": [
    {
     "name": "stdout",
     "output_type": "stream",
     "text": [
      "import numpy as np\n",
      "\n",
      "\n",
      "class FreeShapeMF:\n",
      "    def __init__(self, in_values, mf_values):\n",
      "        \"\"\"\n",
      "        Build a membership function by defining input values (x axis, in_values)\n",
      "        and corresponding output values (y axis, mf_values)\n",
      "\n",
      "        This class is the most basic way available to create membership\n",
      "        functions.\n",
      "\n",
      "        :param in_values:\n",
      "        :param mf_values:\n",
      "        \"\"\"\n",
      "        assert len(in_values) == len(\n",
      "            mf_values), \"Input and MF values are not the same length\"\n",
      "\n",
      "        self._in_values = np.array(in_values)\n",
      "        self._mf_values = np.array(mf_values)\n",
      "\n",
      "    def fuzzify(self, in_value):\n",
      "        # return the nearest mf value for a given in_value using interpolation\n",
      "        return np.interp(in_value, self._in_values, self._mf_values)\n",
      "\n",
      "    @property\n",
      "    def in_values(self):\n",
      "        return self._in_values\n",
      "\n",
      "    @property\n",
      "    def mf_values(self):\n",
      "        return self._mf_values\n"
     ]
    }
   ],
   "source": [
    "!pygmentize fuzzy_systems/core/membership_functions/free_shape_mf.py"
   ]
  },
  {
   "cell_type": "markdown",
   "metadata": {},
   "source": [
    "## Some examples of membership functions"
   ]
  },
  {
   "cell_type": "markdown",
   "metadata": {},
   "source": [
    "- Common membership functions are \"crisp\" (or Boolean), \"Triangular\", and \"Trapezoidal\"."
   ]
  },
  {
   "cell_type": "code",
   "execution_count": 3,
   "metadata": {},
   "outputs": [
    {
     "name": "stdout",
     "output_type": "stream",
     "text": [
      "[N/A] value 3.2 has been fuzzified to 1.0\n"
     ]
    },
    {
     "data": {
      "image/png": "[encoded data removed]",
      "text/plain": [
       "<Figure size 432x288 with 1 Axes>"
      ]
     },
     "metadata": {
      "needs_background": "light"
     },
     "output_type": "display_data"
    }
   ],
   "source": [
    "# import core classes\n",
    "from fuzzy_systems.core.membership_functions.free_shape_mf import FreeShapeMF\n",
    "\n",
    "# import view classes\n",
    "from fuzzy_systems.view.mf_viewer import MembershipFunctionViewer\n",
    "\n",
    "fig, ax = plt.subplots()\n",
    "ax.set_title(\"A crisp membership function\")\n",
    "\n",
    "in_values = [0,1,1,1,3,4,4,5]\n",
    "mf_values = [0,0,1,1,1,1,0,0]\n",
    "\n",
    "mf = FreeShapeMF(in_values, mf_values)\n",
    "mfv = MembershipFunctionViewer(mf, ax=ax, label=\"N/A\")\n",
    "mfv.fuzzify(3.2)\n",
    "plt.legend()\n",
    "plt.show()\n"
   ]
  },
  {
   "cell_type": "markdown",
   "metadata": {},
   "source": [
    "### Triangular MF\n",
    "\n",
    "In the following example we will show an other popular membership function, the triangular membership function.\n",
    "\n",
    "But creating membership functions by hand is painful. Let's create a class that will help us.\n",
    "\n",
    "* Reminder: **you should NOT create a class directly in the notebook**. You must create it in the right folder, here in core/membership_functions."
   ]
  },
  {
   "cell_type": "code",
   "execution_count": 4,
   "metadata": {},
   "outputs": [],
   "source": [
    "class BasicTriangularMF(FreeShapeMF):\n",
    "    def __init__(self, p_min, p_mid, p_max):\n",
    "        in_values = [p_min, p_mid, p_max]\n",
    "        mf_values = [0, 1, 0]\n",
    "        super().__init__(in_values, mf_values)\n"
   ]
  },
  {
   "cell_type": "code",
   "execution_count": 5,
   "metadata": {},
   "outputs": [
    {
     "name": "stdout",
     "output_type": "stream",
     "text": [
      "[N/A] value 14 has been fuzzified to 0.4\n"
     ]
    },
    {
     "data": {
      "image/png": "[encoded data removed]",
      "text/plain": [
       "<Figure size 432x288 with 1 Axes>"
      ]
     },
     "metadata": {
      "needs_background": "light"
     },
     "output_type": "display_data"
    }
   ],
   "source": [
    "tri_mf = BasicTriangularMF(p_min=10, p_mid=20, p_max=30)\n",
    "\n",
    "fig, ax = plt.subplots()\n",
    "ax.set_title(\"A triangular membership function\")\n",
    "mfv = MembershipFunctionViewer(tri_mf, ax=ax, label=\"N/A\")\n",
    "mfv.fuzzify(14)\n",
    "plt.legend()\n",
    "plt.show()"
   ]
  },
  {
   "cell_type": "markdown",
   "metadata": {},
   "source": [
    "## Linear piecewise MF\n",
    "\n",
    "A linear piecewise membership function (LinPWMF) is a membership that is defined by linear parts (i.e. \"a list of lines\"). It is not common to use LinPWMFs as is but it is very convienient to subclass it to create other common MF such as TrapezoidalMF or TriangularMF.\n",
    "\n",
    "Here is an example of the provided LinPWMF"
   ]
  },
  {
   "cell_type": "code",
   "execution_count": 8,
   "metadata": {},
   "outputs": [
    {
     "name": "stdout",
     "output_type": "stream",
     "text": [
      "import numpy as np\n",
      "\n",
      "from fuzzy_systems.core.membership_functions.free_shape_mf import FreeShapeMF\n",
      "\n",
      "\n",
      "def gen_line(p0, p1, n_points):\n",
      "    \"\"\"\n",
      "    Generate a line (list of xs and ys) given two points p0 and p1.\n",
      "    This function handles vertical and horizontal lines\n",
      "    :param p0: a point as x0 and y0\n",
      "    :param p1: a point as x1 and y1\n",
      "    :param n_points: number of points to generate\n",
      "    :return: xs, ys as list of x and list of y of the generated line\n",
      "    \"\"\"\n",
      "    points_same_x = abs(p1[0] - p0[0]) < 1e-6\n",
      "    points_same_y = abs(p1[1] - p0[1]) < 1e-6\n",
      "    if points_same_y and points_same_x:\n",
      "        return [p0[0]], [p0[1]]\n",
      "\n",
      "    if points_same_x:\n",
      "        return [p0[0], p1[0]], [p0[1], p1[1]]\n",
      "\n",
      "    xs = np.linspace(p0[0], p1[0], n_points)\n",
      "    slope = (p1[1] - p0[1]) / (p1[0] - p0[0])\n",
      "    ys = [slope * (x - p0[0]) + p0[1] for x in xs]\n",
      "\n",
      "    return xs, ys\n",
      "\n",
      "\n",
      "class LinPWMF(FreeShapeMF):\n",
      "    \"\"\"\n",
      "    This class produce a \"linear piece-wise function\"-like membership function\n",
      "    This is a more \"generic\" class to produce linear, triangular and\n",
      "    trapezoidal MF.\n",
      "\n",
      "    Feel free to derive this class to create a TriangularMF, LinearMF,...\n",
      "    \"\"\"\n",
      "\n",
      "    def __init__(self, *p_args, n_points=50):\n",
      "        \"\"\"\n",
      "        Create a \"linear piece-wise function\"-like membership function\n",
      "        :param p_args: this should at least contain 2 items. Each item is\n",
      "        a point represented as an array [x, y] i.e. a point of the desired mf\n",
      "        f(x) = y where x is a crisp value and y the assign mf value which is\n",
      "        bound to [0,1]\n",
      "        :param n_points: as only two points are needed to draw a line, this\n",
      "        parameter let you choose the granularity (i.e. the number of points)\n",
      "        to compute between all the piece-wise elements of the function.\n",
      "        \"\"\"\n",
      "        assert len(p_args) >= 2, \"Cannot produce MF with less than 2 points\"\n",
      "        n_pts = n_points\n",
      "        n_pts_part = int(1 / len(p_args) * n_pts)\n",
      "\n",
      "        in_values = []\n",
      "        mf_values = []\n",
      "\n",
      "        for i in range(1, len(p_args)):\n",
      "            xs, ys = gen_line(p_args[i - 1], p_args[i], n_points=n_pts_part)\n",
      "            in_values.extend(xs)\n",
      "            mf_values.extend(ys)\n",
      "\n",
      "        super(LinPWMF, self).__init__(in_values, mf_values)\n"
     ]
    }
   ],
   "source": [
    "!pygmentize fuzzy_systems/core/membership_functions/lin_piece_wise_mf.py"
   ]
  },
  {
   "cell_type": "code",
   "execution_count": 9,
   "metadata": {},
   "outputs": [
    {
     "name": "stdout",
     "output_type": "stream",
     "text": [
      "[N/A] value 14 has been fuzzified to 0.12\n"
     ]
    },
    {
     "data": {
      "image/png": "[encoded data removed]",
      "text/plain": [
       "<Figure size 432x288 with 1 Axes>"
      ]
     },
     "metadata": {
      "needs_background": "light"
     },
     "output_type": "display_data"
    }
   ],
   "source": [
    "from fuzzy_systems.core.membership_functions.lin_piece_wise_mf import LinPWMF\n",
    "\n",
    "lin_mf = LinPWMF([0, 0.1], [6, 1.0], [12, 0.2], [17, 0.0])\n",
    "\n",
    "fig, ax = plt.subplots()\n",
    "ax.set_title(\"A linear piece-wise membership function\")\n",
    "mfv = MembershipFunctionViewer(lin_mf, ax=ax, label=\"N/A\")\n",
    "mfv.fuzzify(14)\n",
    "plt.legend()\n",
    "plt.show()\n"
   ]
  },
  {
   "cell_type": "markdown",
   "metadata": {},
   "source": [
    "## Exercise"
   ]
  },
  {
   "cell_type": "markdown",
   "metadata": {},
   "source": [
    "**TODO student**\n",
    "\n",
    "- Test the functions above. Play with the parameters of each membership functions and observe the results.\n",
    "\n",
    "- Using the provided functions as starting point, implement a new trapezoidal membership class (**in core/membership_functions/trap_mf.py**) without the constraint of being isosceles. \n",
    "\n",
    "- To implement it, you will need to extends/inherit from LinPWMF. You can use this snippet for example:\n",
    "\n",
    "```python \n",
    "class TrapMF(LinPWMF):\n",
    "    def __init__(self, p0, p1, p2, p3):\n",
    "        #TODO student\n",
    "```\n",
    "\n",
    "- Use `MembershipFunctionViewer` to demonstrate how well your implementation works with some relevant test cases/examples.\n",
    "\n",
    "```\n",
    "                         p1           p2\n",
    "                         x____________x\n",
    "                        /             |\n",
    "                       /              |\n",
    "                      /               |\n",
    "               ______x                x_______\n",
    "                    p0                p3\n",
    "```                                       "
   ]
  },
  {
   "cell_type": "code",
   "execution_count": 41,
   "metadata": {},
   "outputs": [
    {
     "name": "stdout",
     "output_type": "stream",
     "text": [
      "AxesSubplot(0.125,0.125;0.775x0.755)\n",
      "[N/A] value 2 has been fuzzified to 0.1\n"
     ]
    },
    {
     "data": {
      "image/png": "[encoded data removed]",
      "text/plain": [
       "<Figure size 432x288 with 1 Axes>"
      ]
     },
     "metadata": {
      "needs_background": "light"
     },
     "output_type": "display_data"
    }
   ],
   "source": [
    "from fuzzy_systems.core.membership_functions.lin_piece_wise_mf import LinPWMF\n",
    "\n",
    "lin_mf = LinPWMF([4, 0.1], [4, 0.25], [3, 0.25], [3, 0.1])\n",
    "\n",
    "fig, ax = plt.subplots()\n",
    "print(ax)\n",
    "ax.set_title(\"A linear piece-wise membership function\")\n",
    "mfv = MembershipFunctionViewer(lin_mf, ax=ax, label=\"N/A\")\n",
    "mfv.fuzzify(2)\n",
    "plt.legend()\n",
    "plt.show()\n",
    "\n",
    "class TrapMF(LinPWMF):\n",
    "    def __init__(self, p0, p1, p2, p3):\n",
    "        lin_mf = LinPWMF(p0, p1, p2, p3)\n",
    "        "
   ]
  },
  {
   "cell_type": "markdown",
   "metadata": {},
   "source": [
    "## To further explore about membership functions... "
   ]
  },
  {
   "cell_type": "markdown",
   "metadata": {},
   "source": [
    "### Singleton MFs\n",
    "\n",
    "**TODO student**\n",
    "\n",
    "\n",
    "                                                 |\n",
    "                                                 |\n",
    "                                                 |\n",
    "                                  _______________|_______________\n",
    "                                  \n",
    "- A special membership function is the so-called \"singleton\", in which all the membership is \"concentrated\" in a single point.\n",
    "    - In your opinion, what is the meaning of such a function?\n",
    "    - Do you see an utility for the use of singleton membership functions?\n",
    "    - Implement a SingletonMF (**in core/membership_functions/singleton_mf.py**). Requirement 1: the constructor is `mf = SingletonMF(x)` where `x` is the input value where `y = 1`. Requirement 2: You must inherit from FreeShapeMF. Tip: you might need to override `fuzzify()` to make it work.\n",
    "    -  Use `MembershipFunctionViewer` to demonstrate how well your implementation works with some relevant test cases/examples.\n",
    "    \n",
    "### Smooth MFs\n",
    "- Smoother membership functions (e.g., Gaussian, exponential, or sigmoid) are also very common in fuzzy logic.\n",
    "    - In your opinion what could be the pros and cons of these smooth functions as compared to their edgier counterparts?\n",
    "\n",
    "### Arbitrary MFs\n",
    "- There is no formal need for a membership function to have a convex, coherent shape (as those explored until now). So, they could be as arbitrary as you want or need.\n",
    "    - In your opinion what could be the pros and cons of using arbitrary membership functions as compared to their well-behaved counterparts?\n"
   ]
  },
  {
   "cell_type": "code",
   "execution_count": null,
   "metadata": {},
   "outputs": [],
   "source": []
  },
  {
   "cell_type": "markdown",
   "metadata": {},
   "source": [
    "-----------------\n",
    "\n",
    "# Please answer below this"
   ]
  },
  {
   "cell_type": "markdown",
   "metadata": {},
   "source": [
    "**TODO student**: \n",
    "\n",
    "- Implement what is asked in the right folders\n",
    "- Write the answer to the questions asked just below. For example:\n",
    "\n",
    ">In your opinion, what is the meaning of such a function?\n",
    "\n",
    "blablabla\n",
    "\n",
    ">Use `MembershipFunctionViewer` to demonstrate how well your implementation works with some relevant test cases/examples.\n",
    "\n",
    "_add some plots here..._"
   ]
  },
  {
   "cell_type": "code",
   "execution_count": 8,
   "metadata": {},
   "outputs": [],
   "source": [
    "#TODO student... "
   ]
  },
  {
   "cell_type": "markdown",
   "metadata": {},
   "source": [
    "### To submit\n",
    "\n",
    "Please make a zip called `lfa_labXX_YY.zip` where `XX` is the lab number and `YY` is your familly name. For example: `lfa_lab02_smith.zip`. \n",
    "\n",
    "The zip must contain all _needed_ the files to run this notebook. That is, don't send your virtualenv (only the requirements.txt). **If any additional steps are required to run your notebook(s)/code, please add a README.md where you indicate all the needed steps to reproduce your work.**"
   ]
  }
 ],
 "metadata": {
  "kernelspec": {
   "display_name": "Python 3",
   "language": "python",
   "name": "python3"
  },
  "language_info": {
   "codemirror_mode": {
    "name": "ipython",
    "version": 3
   },
   "file_extension": ".py",
   "mimetype": "text/x-python",
   "name": "python",
   "nbconvert_exporter": "python",
   "pygments_lexer": "ipython3",
   "version": "3.6.8"
  }
 },
 "nbformat": 4,
 "nbformat_minor": 1
}
